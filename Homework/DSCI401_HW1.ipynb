{
  "nbformat": 4,
  "nbformat_minor": 0,
  "metadata": {
    "colab": {
      "provenance": [],
      "collapsed_sections": [],
      "authorship_tag": "ABX9TyP1+BCzIiwoyDltsoFBEFjW",
      "include_colab_link": true
    },
    "kernelspec": {
      "name": "python3",
      "display_name": "Python 3"
    },
    "language_info": {
      "name": "python"
    }
  },
  "cells": [
    {
      "cell_type": "markdown",
      "metadata": {
        "id": "view-in-github",
        "colab_type": "text"
      },
      "source": [
        "<a href=\"https://colab.research.google.com/github/rachelngordon/GordonDSCI401/blob/main/DSCI401_HW1.ipynb\" target=\"_parent\"><img src=\"https://colab.research.google.com/assets/colab-badge.svg\" alt=\"Open In Colab\"/></a>"
      ]
    },
    {
      "cell_type": "markdown",
      "source": [
        "## Question 3"
      ],
      "metadata": {
        "id": "gWE20GHdmwqJ"
      }
    },
    {
      "cell_type": "code",
      "execution_count": null,
      "metadata": {
        "id": "WyhiYcj9j3ih"
      },
      "outputs": [],
      "source": [
        "import pandas as pd\n",
        "cubs = pd.read_csv(\"https://raw.githubusercontent.com/gjm112/DSCI401/main/data/cubs_all_time.csv\")"
      ]
    },
    {
      "cell_type": "markdown",
      "source": [
        "(a) How many total games have the Cubs won and lost between 1876\n",
        "and 2022?"
      ],
      "metadata": {
        "id": "u8TirjL9kQK6"
      }
    },
    {
      "cell_type": "code",
      "source": [
        "print(\"Games won:\", cubs['W'].sum())\n",
        "print(\"Games lost:\", cubs['L'].sum())"
      ],
      "metadata": {
        "colab": {
          "base_uri": "https://localhost:8080/"
        },
        "id": "Cq5ebDMAkGxc",
        "outputId": "80a44da3-9ced-438c-ab50-a1c034b46fa1"
      },
      "execution_count": null,
      "outputs": [
        {
          "output_type": "stream",
          "name": "stdout",
          "text": [
            "Games won: 11141\n",
            "Games lost: 10592\n"
          ]
        }
      ]
    },
    {
      "cell_type": "markdown",
      "source": [
        "(b) What year did the Cubs score the most runs? What year did the\n",
        "Cubs score the fewest runs? Do you have any thoughts about the\n",
        "year that the Cubs scored the fewest runs?"
      ],
      "metadata": {
        "id": "ifm025eMkVuf"
      }
    },
    {
      "cell_type": "code",
      "source": [
        "# most runs scored\n",
        "print(cubs[cubs['R'] == max(cubs['R'])]['Year'])\n",
        "\n",
        "# fewest runs scored\n",
        "print(cubs[cubs['R'] == min(cubs['R'])]['Year'])"
      ],
      "metadata": {
        "colab": {
          "base_uri": "https://localhost:8080/"
        },
        "id": "NRm8hgePkXX8",
        "outputId": "305471fc-08eb-40e3-9619-6ae5cb74962c"
      },
      "execution_count": null,
      "outputs": [
        {
          "output_type": "stream",
          "name": "stdout",
          "text": [
            "128    1894\n",
            "Name: Year, dtype: int64\n",
            "2    2020\n",
            "Name: Year, dtype: int64\n"
          ]
        }
      ]
    },
    {
      "cell_type": "markdown",
      "source": [
        "(c) In how many seasons was the Cubs total attendance (i.e. the variable Attendance) over 3 million?"
      ],
      "metadata": {
        "id": "cvwQ9Kj6kXxP"
      }
    },
    {
      "cell_type": "code",
      "source": [
        "high_attendance = cubs[cubs['Attendance'] > 3000000]\n",
        "high_attendance.shape[0]"
      ],
      "metadata": {
        "colab": {
          "base_uri": "https://localhost:8080/"
        },
        "id": "T802eTtakYwH",
        "outputId": "6cdd75ae-c5b1-4726-d204-5daf3bb3dfde"
      },
      "execution_count": null,
      "outputs": [
        {
          "output_type": "execute_result",
          "data": {
            "text/plain": [
              "12"
            ]
          },
          "metadata": {},
          "execution_count": 29
        }
      ]
    }
  ]
}