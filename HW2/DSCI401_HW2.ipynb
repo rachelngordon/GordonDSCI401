{
  "nbformat": 4,
  "nbformat_minor": 0,
  "metadata": {
    "colab": {
      "provenance": [],
      "collapsed_sections": []
    },
    "kernelspec": {
      "name": "python3",
      "display_name": "Python 3"
    },
    "language_info": {
      "name": "python"
    }
  },
  "cells": [
    {
      "cell_type": "markdown",
      "source": [
        "# Question 1"
      ],
      "metadata": {
        "id": "h6H3Xb-6IH_w"
      }
    },
    {
      "cell_type": "markdown",
      "source": [
        "## part (a)"
      ],
      "metadata": {
        "id": "I-Gb3gptIJ2X"
      }
    },
    {
      "cell_type": "markdown",
      "source": [
        "Create a data frame that is a subset of the Teams data frame that contains only the years from 2000 through 2009 and the variables yearID, W, and L."
      ],
      "metadata": {
        "id": "1riCMmymINP9"
      }
    },
    {
      "cell_type": "code",
      "execution_count": null,
      "metadata": {
        "colab": {
          "base_uri": "https://localhost:8080/",
          "height": 242
        },
        "id": "O2MdnoE6IFZg",
        "outputId": "b0491ae7-6929-4669-9724-2051df53df7d"
      },
      "outputs": [
        {
          "output_type": "stream",
          "name": "stderr",
          "text": [
            "/usr/local/lib/python3.7/dist-packages/ipykernel_launcher.py:7: UserWarning: Boolean Series key will be reindexed to match DataFrame index.\n",
            "  import sys\n"
          ]
        },
        {
          "output_type": "execute_result",
          "data": {
            "text/plain": [
              "      yearID   W   L\n",
              "2325    2000  82  80\n",
              "2326    2000  85  77\n",
              "2327    2000  95  67\n",
              "2328    2000  74  88\n",
              "2329    2000  85  77"
            ],
            "text/html": [
              "\n",
              "  <div id=\"df-1aff9a99-02f4-4ed2-87fe-b2a2dd97a80a\">\n",
              "    <div class=\"colab-df-container\">\n",
              "      <div>\n",
              "<style scoped>\n",
              "    .dataframe tbody tr th:only-of-type {\n",
              "        vertical-align: middle;\n",
              "    }\n",
              "\n",
              "    .dataframe tbody tr th {\n",
              "        vertical-align: top;\n",
              "    }\n",
              "\n",
              "    .dataframe thead th {\n",
              "        text-align: right;\n",
              "    }\n",
              "</style>\n",
              "<table border=\"1\" class=\"dataframe\">\n",
              "  <thead>\n",
              "    <tr style=\"text-align: right;\">\n",
              "      <th></th>\n",
              "      <th>yearID</th>\n",
              "      <th>W</th>\n",
              "      <th>L</th>\n",
              "    </tr>\n",
              "  </thead>\n",
              "  <tbody>\n",
              "    <tr>\n",
              "      <th>2325</th>\n",
              "      <td>2000</td>\n",
              "      <td>82</td>\n",
              "      <td>80</td>\n",
              "    </tr>\n",
              "    <tr>\n",
              "      <th>2326</th>\n",
              "      <td>2000</td>\n",
              "      <td>85</td>\n",
              "      <td>77</td>\n",
              "    </tr>\n",
              "    <tr>\n",
              "      <th>2327</th>\n",
              "      <td>2000</td>\n",
              "      <td>95</td>\n",
              "      <td>67</td>\n",
              "    </tr>\n",
              "    <tr>\n",
              "      <th>2328</th>\n",
              "      <td>2000</td>\n",
              "      <td>74</td>\n",
              "      <td>88</td>\n",
              "    </tr>\n",
              "    <tr>\n",
              "      <th>2329</th>\n",
              "      <td>2000</td>\n",
              "      <td>85</td>\n",
              "      <td>77</td>\n",
              "    </tr>\n",
              "  </tbody>\n",
              "</table>\n",
              "</div>\n",
              "      <button class=\"colab-df-convert\" onclick=\"convertToInteractive('df-1aff9a99-02f4-4ed2-87fe-b2a2dd97a80a')\"\n",
              "              title=\"Convert this dataframe to an interactive table.\"\n",
              "              style=\"display:none;\">\n",
              "        \n",
              "  <svg xmlns=\"http://www.w3.org/2000/svg\" height=\"24px\"viewBox=\"0 0 24 24\"\n",
              "       width=\"24px\">\n",
              "    <path d=\"M0 0h24v24H0V0z\" fill=\"none\"/>\n",
              "    <path d=\"M18.56 5.44l.94 2.06.94-2.06 2.06-.94-2.06-.94-.94-2.06-.94 2.06-2.06.94zm-11 1L8.5 8.5l.94-2.06 2.06-.94-2.06-.94L8.5 2.5l-.94 2.06-2.06.94zm10 10l.94 2.06.94-2.06 2.06-.94-2.06-.94-.94-2.06-.94 2.06-2.06.94z\"/><path d=\"M17.41 7.96l-1.37-1.37c-.4-.4-.92-.59-1.43-.59-.52 0-1.04.2-1.43.59L10.3 9.45l-7.72 7.72c-.78.78-.78 2.05 0 2.83L4 21.41c.39.39.9.59 1.41.59.51 0 1.02-.2 1.41-.59l7.78-7.78 2.81-2.81c.8-.78.8-2.07 0-2.86zM5.41 20L4 18.59l7.72-7.72 1.47 1.35L5.41 20z\"/>\n",
              "  </svg>\n",
              "      </button>\n",
              "      \n",
              "  <style>\n",
              "    .colab-df-container {\n",
              "      display:flex;\n",
              "      flex-wrap:wrap;\n",
              "      gap: 12px;\n",
              "    }\n",
              "\n",
              "    .colab-df-convert {\n",
              "      background-color: #E8F0FE;\n",
              "      border: none;\n",
              "      border-radius: 50%;\n",
              "      cursor: pointer;\n",
              "      display: none;\n",
              "      fill: #1967D2;\n",
              "      height: 32px;\n",
              "      padding: 0 0 0 0;\n",
              "      width: 32px;\n",
              "    }\n",
              "\n",
              "    .colab-df-convert:hover {\n",
              "      background-color: #E2EBFA;\n",
              "      box-shadow: 0px 1px 2px rgba(60, 64, 67, 0.3), 0px 1px 3px 1px rgba(60, 64, 67, 0.15);\n",
              "      fill: #174EA6;\n",
              "    }\n",
              "\n",
              "    [theme=dark] .colab-df-convert {\n",
              "      background-color: #3B4455;\n",
              "      fill: #D2E3FC;\n",
              "    }\n",
              "\n",
              "    [theme=dark] .colab-df-convert:hover {\n",
              "      background-color: #434B5C;\n",
              "      box-shadow: 0px 1px 3px 1px rgba(0, 0, 0, 0.15);\n",
              "      filter: drop-shadow(0px 1px 2px rgba(0, 0, 0, 0.3));\n",
              "      fill: #FFFFFF;\n",
              "    }\n",
              "  </style>\n",
              "\n",
              "      <script>\n",
              "        const buttonEl =\n",
              "          document.querySelector('#df-1aff9a99-02f4-4ed2-87fe-b2a2dd97a80a button.colab-df-convert');\n",
              "        buttonEl.style.display =\n",
              "          google.colab.kernel.accessAllowed ? 'block' : 'none';\n",
              "\n",
              "        async function convertToInteractive(key) {\n",
              "          const element = document.querySelector('#df-1aff9a99-02f4-4ed2-87fe-b2a2dd97a80a');\n",
              "          const dataTable =\n",
              "            await google.colab.kernel.invokeFunction('convertToInteractive',\n",
              "                                                     [key], {});\n",
              "          if (!dataTable) return;\n",
              "\n",
              "          const docLinkHtml = 'Like what you see? Visit the ' +\n",
              "            '<a target=\"_blank\" href=https://colab.research.google.com/notebooks/data_table.ipynb>data table notebook</a>'\n",
              "            + ' to learn more about interactive tables.';\n",
              "          element.innerHTML = '';\n",
              "          dataTable['output_type'] = 'display_data';\n",
              "          await google.colab.output.renderOutput(dataTable, element);\n",
              "          const docLink = document.createElement('div');\n",
              "          docLink.innerHTML = docLinkHtml;\n",
              "          element.appendChild(docLink);\n",
              "        }\n",
              "      </script>\n",
              "    </div>\n",
              "  </div>\n",
              "  "
            ]
          },
          "metadata": {},
          "execution_count": 155
        }
      ],
      "source": [
        "import pandas as pd\n",
        "\n",
        "# import the data\n",
        "teams = pd.read_csv(\"https://raw.githubusercontent.com/gjm112/DSCI401/main/data/Teams.csv\")\n",
        "\n",
        "# create a subset containing years 2000 through 2009 and variables yearID, W, and L\n",
        "sub_teams = teams[teams[\"yearID\"] >= 2000][teams[\"yearID\"] <= 2009]\n",
        "sub_teams = sub_teams[[\"yearID\", \"W\", \"L\"]]\n",
        "sub_teams.head()"
      ]
    },
    {
      "cell_type": "markdown",
      "source": [
        "## part (b)"
      ],
      "metadata": {
        "id": "q_eINGdWISgP"
      }
    },
    {
      "cell_type": "markdown",
      "source": [
        "How many years did the Chicago Cubs (team ID is “CHN”) hit at least 200 HRs in a season and what was the median number of wins in those seasons."
      ],
      "metadata": {
        "id": "v2G4RfKBITzQ"
      }
    },
    {
      "cell_type": "code",
      "source": [
        "from statistics import median\n",
        "\n",
        "# subset dataset where team is cubs and home runs is at least 200\n",
        "cubs = teams[teams[\"teamID\"] == \"CHN\"][teams[\"HR\"] >= 200]\n",
        "\n",
        "# years cubs hit at least 200 home runs\n",
        "print(cubs.shape[0])\n",
        "\n",
        "# median number of wins\n",
        "print(median(cubs['W']))"
      ],
      "metadata": {
        "colab": {
          "base_uri": "https://localhost:8080/"
        },
        "id": "kMjQwEDOKXs6",
        "outputId": "3d9aa45a-1345-4f7e-9cd5-609f47930ad4"
      },
      "execution_count": null,
      "outputs": [
        {
          "output_type": "stream",
          "name": "stdout",
          "text": [
            "7\n",
            "84\n"
          ]
        },
        {
          "output_type": "stream",
          "name": "stderr",
          "text": [
            "/usr/local/lib/python3.7/dist-packages/ipykernel_launcher.py:4: UserWarning: Boolean Series key will be reindexed to match DataFrame index.\n",
            "  after removing the cwd from sys.path.\n"
          ]
        }
      ]
    },
    {
      "cell_type": "markdown",
      "source": [
        "## part (c)"
      ],
      "metadata": {
        "id": "yCleT6_MIWdA"
      }
    },
    {
      "cell_type": "markdown",
      "source": [
        "Create a factor called election that divides the yearID into 4-year blocks that correspond to U.S. presidential terms. The first presidential term started in 1788. They each last 4 years and are still on the schedule set in 1788. During which term have the most home runs been hit?"
      ],
      "metadata": {
        "id": "aTFZ5lIGIXjn"
      }
    },
    {
      "cell_type": "code",
      "source": [
        "import math\n",
        "\n",
        "# create a new column for presidential term\n",
        "# subtract year 1787, divide by 4, and round up\n",
        "pres_terms = []\n",
        "for year in teams[\"yearID\"]:\n",
        "  pres_terms.append(math.ceil((year - 1787)/4))\n",
        "\n",
        "teams[\"pres_term\"] = pres_terms\n",
        "\n",
        "# find total runs grouped by presidential term\n",
        "most_runs = teams[[\"pres_term\",\"HR\"]].groupby(\"pres_term\").sum()\n",
        "\n",
        "# find the presidential term with max home runs\n",
        "most_runs[most_runs[\"HR\"] == max(most_runs[\"HR\"])]"
      ],
      "metadata": {
        "colab": {
          "base_uri": "https://localhost:8080/",
          "height": 112
        },
        "id": "xStfLImDLb--",
        "outputId": "d39d75f3-f42d-40ce-95e5-69292ea50bed"
      },
      "execution_count": null,
      "outputs": [
        {
          "output_type": "execute_result",
          "data": {
            "text/plain": [
              "              HR\n",
              "pres_term       \n",
              "58         24076"
            ],
            "text/html": [
              "\n",
              "  <div id=\"df-5917d2d7-722f-4e73-b4c4-11b2dac0d3fc\">\n",
              "    <div class=\"colab-df-container\">\n",
              "      <div>\n",
              "<style scoped>\n",
              "    .dataframe tbody tr th:only-of-type {\n",
              "        vertical-align: middle;\n",
              "    }\n",
              "\n",
              "    .dataframe tbody tr th {\n",
              "        vertical-align: top;\n",
              "    }\n",
              "\n",
              "    .dataframe thead th {\n",
              "        text-align: right;\n",
              "    }\n",
              "</style>\n",
              "<table border=\"1\" class=\"dataframe\">\n",
              "  <thead>\n",
              "    <tr style=\"text-align: right;\">\n",
              "      <th></th>\n",
              "      <th>HR</th>\n",
              "    </tr>\n",
              "    <tr>\n",
              "      <th>pres_term</th>\n",
              "      <th></th>\n",
              "    </tr>\n",
              "  </thead>\n",
              "  <tbody>\n",
              "    <tr>\n",
              "      <th>58</th>\n",
              "      <td>24076</td>\n",
              "    </tr>\n",
              "  </tbody>\n",
              "</table>\n",
              "</div>\n",
              "      <button class=\"colab-df-convert\" onclick=\"convertToInteractive('df-5917d2d7-722f-4e73-b4c4-11b2dac0d3fc')\"\n",
              "              title=\"Convert this dataframe to an interactive table.\"\n",
              "              style=\"display:none;\">\n",
              "        \n",
              "  <svg xmlns=\"http://www.w3.org/2000/svg\" height=\"24px\"viewBox=\"0 0 24 24\"\n",
              "       width=\"24px\">\n",
              "    <path d=\"M0 0h24v24H0V0z\" fill=\"none\"/>\n",
              "    <path d=\"M18.56 5.44l.94 2.06.94-2.06 2.06-.94-2.06-.94-.94-2.06-.94 2.06-2.06.94zm-11 1L8.5 8.5l.94-2.06 2.06-.94-2.06-.94L8.5 2.5l-.94 2.06-2.06.94zm10 10l.94 2.06.94-2.06 2.06-.94-2.06-.94-.94-2.06-.94 2.06-2.06.94z\"/><path d=\"M17.41 7.96l-1.37-1.37c-.4-.4-.92-.59-1.43-.59-.52 0-1.04.2-1.43.59L10.3 9.45l-7.72 7.72c-.78.78-.78 2.05 0 2.83L4 21.41c.39.39.9.59 1.41.59.51 0 1.02-.2 1.41-.59l7.78-7.78 2.81-2.81c.8-.78.8-2.07 0-2.86zM5.41 20L4 18.59l7.72-7.72 1.47 1.35L5.41 20z\"/>\n",
              "  </svg>\n",
              "      </button>\n",
              "      \n",
              "  <style>\n",
              "    .colab-df-container {\n",
              "      display:flex;\n",
              "      flex-wrap:wrap;\n",
              "      gap: 12px;\n",
              "    }\n",
              "\n",
              "    .colab-df-convert {\n",
              "      background-color: #E8F0FE;\n",
              "      border: none;\n",
              "      border-radius: 50%;\n",
              "      cursor: pointer;\n",
              "      display: none;\n",
              "      fill: #1967D2;\n",
              "      height: 32px;\n",
              "      padding: 0 0 0 0;\n",
              "      width: 32px;\n",
              "    }\n",
              "\n",
              "    .colab-df-convert:hover {\n",
              "      background-color: #E2EBFA;\n",
              "      box-shadow: 0px 1px 2px rgba(60, 64, 67, 0.3), 0px 1px 3px 1px rgba(60, 64, 67, 0.15);\n",
              "      fill: #174EA6;\n",
              "    }\n",
              "\n",
              "    [theme=dark] .colab-df-convert {\n",
              "      background-color: #3B4455;\n",
              "      fill: #D2E3FC;\n",
              "    }\n",
              "\n",
              "    [theme=dark] .colab-df-convert:hover {\n",
              "      background-color: #434B5C;\n",
              "      box-shadow: 0px 1px 3px 1px rgba(0, 0, 0, 0.15);\n",
              "      filter: drop-shadow(0px 1px 2px rgba(0, 0, 0, 0.3));\n",
              "      fill: #FFFFFF;\n",
              "    }\n",
              "  </style>\n",
              "\n",
              "      <script>\n",
              "        const buttonEl =\n",
              "          document.querySelector('#df-5917d2d7-722f-4e73-b4c4-11b2dac0d3fc button.colab-df-convert');\n",
              "        buttonEl.style.display =\n",
              "          google.colab.kernel.accessAllowed ? 'block' : 'none';\n",
              "\n",
              "        async function convertToInteractive(key) {\n",
              "          const element = document.querySelector('#df-5917d2d7-722f-4e73-b4c4-11b2dac0d3fc');\n",
              "          const dataTable =\n",
              "            await google.colab.kernel.invokeFunction('convertToInteractive',\n",
              "                                                     [key], {});\n",
              "          if (!dataTable) return;\n",
              "\n",
              "          const docLinkHtml = 'Like what you see? Visit the ' +\n",
              "            '<a target=\"_blank\" href=https://colab.research.google.com/notebooks/data_table.ipynb>data table notebook</a>'\n",
              "            + ' to learn more about interactive tables.';\n",
              "          element.innerHTML = '';\n",
              "          dataTable['output_type'] = 'display_data';\n",
              "          await google.colab.output.renderOutput(dataTable, element);\n",
              "          const docLink = document.createElement('div');\n",
              "          docLink.innerHTML = docLinkHtml;\n",
              "          element.appendChild(docLink);\n",
              "        }\n",
              "      </script>\n",
              "    </div>\n",
              "  </div>\n",
              "  "
            ]
          },
          "metadata": {},
          "execution_count": 157
        }
      ]
    },
    {
      "cell_type": "markdown",
      "source": [
        "## part (d)"
      ],
      "metadata": {
        "id": "GK820wkuIZ26"
      }
    },
    {
      "cell_type": "markdown",
      "source": [
        "Make a line plot of total home runs per season and stratify by league. Remove observations where league is missing."
      ],
      "metadata": {
        "id": "jAbcpwpyIb72"
      }
    },
    {
      "cell_type": "code",
      "source": [
        "# drop lgID NA's\n",
        "teams = teams[teams['lgID'].notna()]\n",
        "\n",
        "# create line plot\n",
        "pd.pivot_table(teams.reset_index(),\n",
        "               index='yearID', columns='lgID', values='HR'\n",
        "              ).plot(subplots=False, title = \"Home Runs Per Season Stratified by League\", xlabel = \"Season\", ylabel = \"Home Runs\")"
      ],
      "metadata": {
        "colab": {
          "base_uri": "https://localhost:8080/",
          "height": 313
        },
        "id": "ty4HHDo5dJb7",
        "outputId": "8323ae0e-24ee-48bf-eb5f-e95cb4a931fe"
      },
      "execution_count": null,
      "outputs": [
        {
          "output_type": "execute_result",
          "data": {
            "text/plain": [
              "<matplotlib.axes._subplots.AxesSubplot at 0x7f2ccc03ebd0>"
            ]
          },
          "metadata": {},
          "execution_count": 158
        },
        {
          "output_type": "display_data",
          "data": {
            "text/plain": [
              "<Figure size 432x288 with 1 Axes>"
            ],
            "image/png": "[encoded data removed]"
          },
          "metadata": {
            "needs_background": "light"
          }
        }
      ]
    },
    {
      "cell_type": "markdown",
      "source": [
        "## part (e)"
      ],
      "metadata": {
        "id": "IPqffOK8Ieyb"
      }
    },
    {
      "cell_type": "markdown",
      "source": [
        "Create an indicator variable called “winning record” which is defined as TRUE if the number of wins is greater than the number of losses and FALSE otherwise. Plot a scatter plot of Runs (R) vs Runs against (RA) with the color of each point showing whether that team had a winning record or not."
      ],
      "metadata": {
        "id": "2xa-yH-xIgJa"
      }
    },
    {
      "cell_type": "code",
      "source": [
        "import matplotlib.pyplot as plt\n",
        "\n",
        "# function to determine if the team had a winning record or not\n",
        "def label_record(row):\n",
        "  if row['W'] > row['L']:\n",
        "    return True\n",
        "  else:\n",
        "    return False\n",
        "\n",
        "teams[\"winning_record\"] = teams.apply (lambda row: label_record(row), axis=1)\n",
        "\n",
        "# create scatter plot\n",
        "plt.scatter(teams['RA'], teams['R'], c = teams['winning_record'])\n",
        "plt.xlabel(\"Runs Against\")\n",
        "plt.ylabel(\"Runs\")\n",
        "plt.title(\"Runs vs Runs Against by Winning Record\")\n",
        "plt.show()"
      ],
      "metadata": {
        "colab": {
          "base_uri": "https://localhost:8080/",
          "height": 295
        },
        "id": "Qb0DhtyAevgT",
        "outputId": "a6532fed-aad5-4a2e-9cae-7bb608ac760b"
      },
      "execution_count": null,
      "outputs": [
        {
          "output_type": "display_data",
          "data": {
            "text/plain": [
              "<Figure size 432x288 with 1 Axes>"
            ],
            "image/png": "[encoded data removed]"
          },
          "metadata": {
            "needs_background": "light"
          }
        }
      ]
    },
    {
      "cell_type": "markdown",
      "source": [
        "# Question 2"
      ],
      "metadata": {
        "id": "1nJQw-w5iqVJ"
      }
    },
    {
      "cell_type": "markdown",
      "source": [
        "## part (a)"
      ],
      "metadata": {
        "id": "ycEGuFmYirpc"
      }
    },
    {
      "cell_type": "markdown",
      "source": [
        "What month had the highest proportion of cancelled flights? What month had the lowest? Interpret any seasonal patterns."
      ],
      "metadata": {
        "id": "8PE7VKIJitIv"
      }
    },
    {
      "cell_type": "code",
      "source": [
        "import math \n",
        "\n",
        "# import the data\n",
        "flights = pd.read_csv(\"https://raw.githubusercontent.com/gjm112/DSCI401/main/data/flights.csv\")\n",
        "\n",
        "# create column for whether flight was cancelled or not\n",
        "def cancelled(row):\n",
        "  if math.isnan(row['air_time']):\n",
        "    return 1\n",
        "  else:\n",
        "    return 0\n",
        "\n",
        "flights[\"cancelled\"] = flights.apply (lambda row: cancelled(row), axis=1) \n",
        "month_cancels = flights[[\"month\",\"cancelled\"]].groupby(\"month\").mean()\n",
        "\n",
        "# month with maximum cancellations\n",
        "print(month_cancels[month_cancels[\"cancelled\"] == max(month_cancels[\"cancelled\"])])\n",
        "\n",
        "# month with minimum cancellations\n",
        "print(month_cancels[month_cancels[\"cancelled\"] == min(month_cancels[\"cancelled\"])])"
      ],
      "metadata": {
        "colab": {
          "base_uri": "https://localhost:8080/"
        },
        "id": "Q7YPcyS8jDLF",
        "outputId": "a015fab4-4fdc-4860-f8e5-787a4aa04807"
      },
      "execution_count": null,
      "outputs": [
        {
          "output_type": "stream",
          "name": "stdout",
          "text": [
            "       cancelled\n",
            "month           \n",
            "2       0.053705\n",
            "       cancelled\n",
            "month           \n",
            "10      0.009381\n"
          ]
        }
      ]
    },
    {
      "cell_type": "markdown",
      "source": [
        "The Winter months, such as February, have the most cancellations, while October has the least amount of cancellations, perhaps because it is in the Fall"
      ],
      "metadata": {
        "id": "pgNiDWR-mLlQ"
      }
    },
    {
      "cell_type": "markdown",
      "source": [
        "## part (b)"
      ],
      "metadata": {
        "id": "URBIds5nizH1"
      }
    },
    {
      "cell_type": "markdown",
      "source": [
        "Given that a delay is longer than an hour, what is the average time of the total delay by airport (i.e. origin)"
      ],
      "metadata": {
        "id": "qIU0U5zPi0hT"
      }
    },
    {
      "cell_type": "code",
      "source": [
        "# subset for delays longer than an hour\n",
        "long_delays = flights[flights[\"arr_delay\"] > 60]\n",
        "\n",
        "# average delay by airport\n",
        "long_delays.groupby(\"origin\").mean()['arr_delay']"
      ],
      "metadata": {
        "colab": {
          "base_uri": "https://localhost:8080/"
        },
        "id": "N2BKHYyOjD5g",
        "outputId": "408ce620-a70c-46df-b569-d375482800e1"
      },
      "execution_count": null,
      "outputs": [
        {
          "output_type": "execute_result",
          "data": {
            "text/plain": [
              "origin\n",
              "EWR    120.080943\n",
              "JFK    120.008503\n",
              "LGA    124.083678\n",
              "Name: arr_delay, dtype: float64"
            ]
          },
          "metadata": {},
          "execution_count": 189
        }
      ]
    },
    {
      "cell_type": "markdown",
      "source": [
        "## part (c)"
      ],
      "metadata": {
        "id": "V7dRZfLIi2uP"
      }
    },
    {
      "cell_type": "markdown",
      "source": [
        "What is the average air time for all flights by carrier? Which carrier has the longest average air time on their flights?\n"
      ],
      "metadata": {
        "id": "PwaqTpKji3w8"
      }
    },
    {
      "cell_type": "code",
      "source": [
        "# drop air_time NA's\n",
        "flights = flights[flights['air_time'].notna()]\n",
        "\n",
        "# average air time by carrier\n",
        "air_times = flights[['carrier', 'air_time']].groupby(\"carrier\").mean()\n",
        "print(air_times)\n",
        "\n",
        "# carrier with longest average air time\n",
        "air_times[air_times[\"air_time\"] == max(air_times[\"air_time\"])]"
      ],
      "metadata": {
        "colab": {
          "base_uri": "https://localhost:8080/",
          "height": 434
        },
        "id": "NIyTZxz4jEXX",
        "outputId": "bc4ac1bc-5795-446b-fe78-f7099162d417"
      },
      "execution_count": null,
      "outputs": [
        {
          "output_type": "stream",
          "name": "stdout",
          "text": [
            "           air_time\n",
            "carrier            \n",
            "9E        86.781601\n",
            "AA       188.822299\n",
            "AS       325.617772\n",
            "B6       151.177173\n",
            "DL       173.688804\n",
            "EV        90.076192\n",
            "F9       229.599119\n",
            "FL       101.143937\n",
            "HA       623.087719\n",
            "MQ        91.180253\n",
            "OO        83.482759\n",
            "UA       211.791354\n",
            "US        88.573799\n",
            "VX       337.002346\n",
            "WN       147.824809\n",
            "YV        65.740809\n"
          ]
        },
        {
          "output_type": "execute_result",
          "data": {
            "text/plain": [
              "           air_time\n",
              "carrier            \n",
              "HA       623.087719"
            ],
            "text/html": [
              "\n",
              "  <div id=\"df-0e09b892-3b42-4c26-8bfe-99490c7246ca\">\n",
              "    <div class=\"colab-df-container\">\n",
              "      <div>\n",
              "<style scoped>\n",
              "    .dataframe tbody tr th:only-of-type {\n",
              "        vertical-align: middle;\n",
              "    }\n",
              "\n",
              "    .dataframe tbody tr th {\n",
              "        vertical-align: top;\n",
              "    }\n",
              "\n",
              "    .dataframe thead th {\n",
              "        text-align: right;\n",
              "    }\n",
              "</style>\n",
              "<table border=\"1\" class=\"dataframe\">\n",
              "  <thead>\n",
              "    <tr style=\"text-align: right;\">\n",
              "      <th></th>\n",
              "      <th>air_time</th>\n",
              "    </tr>\n",
              "    <tr>\n",
              "      <th>carrier</th>\n",
              "      <th></th>\n",
              "    </tr>\n",
              "  </thead>\n",
              "  <tbody>\n",
              "    <tr>\n",
              "      <th>HA</th>\n",
              "      <td>623.087719</td>\n",
              "    </tr>\n",
              "  </tbody>\n",
              "</table>\n",
              "</div>\n",
              "      <button class=\"colab-df-convert\" onclick=\"convertToInteractive('df-0e09b892-3b42-4c26-8bfe-99490c7246ca')\"\n",
              "              title=\"Convert this dataframe to an interactive table.\"\n",
              "              style=\"display:none;\">\n",
              "        \n",
              "  <svg xmlns=\"http://www.w3.org/2000/svg\" height=\"24px\"viewBox=\"0 0 24 24\"\n",
              "       width=\"24px\">\n",
              "    <path d=\"M0 0h24v24H0V0z\" fill=\"none\"/>\n",
              "    <path d=\"M18.56 5.44l.94 2.06.94-2.06 2.06-.94-2.06-.94-.94-2.06-.94 2.06-2.06.94zm-11 1L8.5 8.5l.94-2.06 2.06-.94-2.06-.94L8.5 2.5l-.94 2.06-2.06.94zm10 10l.94 2.06.94-2.06 2.06-.94-2.06-.94-.94-2.06-.94 2.06-2.06.94z\"/><path d=\"M17.41 7.96l-1.37-1.37c-.4-.4-.92-.59-1.43-.59-.52 0-1.04.2-1.43.59L10.3 9.45l-7.72 7.72c-.78.78-.78 2.05 0 2.83L4 21.41c.39.39.9.59 1.41.59.51 0 1.02-.2 1.41-.59l7.78-7.78 2.81-2.81c.8-.78.8-2.07 0-2.86zM5.41 20L4 18.59l7.72-7.72 1.47 1.35L5.41 20z\"/>\n",
              "  </svg>\n",
              "      </button>\n",
              "      \n",
              "  <style>\n",
              "    .colab-df-container {\n",
              "      display:flex;\n",
              "      flex-wrap:wrap;\n",
              "      gap: 12px;\n",
              "    }\n",
              "\n",
              "    .colab-df-convert {\n",
              "      background-color: #E8F0FE;\n",
              "      border: none;\n",
              "      border-radius: 50%;\n",
              "      cursor: pointer;\n",
              "      display: none;\n",
              "      fill: #1967D2;\n",
              "      height: 32px;\n",
              "      padding: 0 0 0 0;\n",
              "      width: 32px;\n",
              "    }\n",
              "\n",
              "    .colab-df-convert:hover {\n",
              "      background-color: #E2EBFA;\n",
              "      box-shadow: 0px 1px 2px rgba(60, 64, 67, 0.3), 0px 1px 3px 1px rgba(60, 64, 67, 0.15);\n",
              "      fill: #174EA6;\n",
              "    }\n",
              "\n",
              "    [theme=dark] .colab-df-convert {\n",
              "      background-color: #3B4455;\n",
              "      fill: #D2E3FC;\n",
              "    }\n",
              "\n",
              "    [theme=dark] .colab-df-convert:hover {\n",
              "      background-color: #434B5C;\n",
              "      box-shadow: 0px 1px 3px 1px rgba(0, 0, 0, 0.15);\n",
              "      filter: drop-shadow(0px 1px 2px rgba(0, 0, 0, 0.3));\n",
              "      fill: #FFFFFF;\n",
              "    }\n",
              "  </style>\n",
              "\n",
              "      <script>\n",
              "        const buttonEl =\n",
              "          document.querySelector('#df-0e09b892-3b42-4c26-8bfe-99490c7246ca button.colab-df-convert');\n",
              "        buttonEl.style.display =\n",
              "          google.colab.kernel.accessAllowed ? 'block' : 'none';\n",
              "\n",
              "        async function convertToInteractive(key) {\n",
              "          const element = document.querySelector('#df-0e09b892-3b42-4c26-8bfe-99490c7246ca');\n",
              "          const dataTable =\n",
              "            await google.colab.kernel.invokeFunction('convertToInteractive',\n",
              "                                                     [key], {});\n",
              "          if (!dataTable) return;\n",
              "\n",
              "          const docLinkHtml = 'Like what you see? Visit the ' +\n",
              "            '<a target=\"_blank\" href=https://colab.research.google.com/notebooks/data_table.ipynb>data table notebook</a>'\n",
              "            + ' to learn more about interactive tables.';\n",
              "          element.innerHTML = '';\n",
              "          dataTable['output_type'] = 'display_data';\n",
              "          await google.colab.output.renderOutput(dataTable, element);\n",
              "          const docLink = document.createElement('div');\n",
              "          docLink.innerHTML = docLinkHtml;\n",
              "          element.appendChild(docLink);\n",
              "        }\n",
              "      </script>\n",
              "    </div>\n",
              "  </div>\n",
              "  "
            ]
          },
          "metadata": {},
          "execution_count": 192
        }
      ]
    },
    {
      "cell_type": "markdown",
      "source": [
        "## part (d)"
      ],
      "metadata": {
        "id": "wvnfVsByi7Fu"
      }
    },
    {
      "cell_type": "markdown",
      "source": [
        "Keeping only flights that had a delay greater than 0, create a histogram for each month of the delay data."
      ],
      "metadata": {
        "id": "FNnGnBw4i8Wi"
      }
    },
    {
      "cell_type": "code",
      "source": [
        "# subset for delays greater than 0\n",
        "delays = flights[flights[\"arr_delay\"] > 0]\n",
        "\n",
        "# create histogram by month\n",
        "delays['arr_delay'].hist(by = delays['month'], grid = False, figsize=(20,11), layout=(3,4), sharey = True, sharex = True)"
      ],
      "metadata": {
        "colab": {
          "base_uri": "https://localhost:8080/",
          "height": 899
        },
        "id": "wVwh1I_FjE-h",
        "outputId": "759d4373-fd7b-47ee-b3dd-554a7e13cea7"
      },
      "execution_count": null,
      "outputs": [
        {
          "output_type": "execute_result",
          "data": {
            "text/plain": [
              "array([[<matplotlib.axes._subplots.AxesSubplot object at 0x7f2cbc6048d0>,\n",
              "        <matplotlib.axes._subplots.AxesSubplot object at 0x7f2cbc683050>,\n",
              "        <matplotlib.axes._subplots.AxesSubplot object at 0x7f2cbc4eec90>,\n",
              "        <matplotlib.axes._subplots.AxesSubplot object at 0x7f2cbc4a5d90>],\n",
              "       [<matplotlib.axes._subplots.AxesSubplot object at 0x7f2cbc457f10>,\n",
              "        <matplotlib.axes._subplots.AxesSubplot object at 0x7f2cbc412090>,\n",
              "        <matplotlib.axes._subplots.AxesSubplot object at 0x7f2cbc3d0210>,\n",
              "        <matplotlib.axes._subplots.AxesSubplot object at 0x7f2cbc402390>],\n",
              "       [<matplotlib.axes._subplots.AxesSubplot object at 0x7f2cbc3b6550>,\n",
              "        <matplotlib.axes._subplots.AxesSubplot object at 0x7f2cbc36c6d0>,\n",
              "        <matplotlib.axes._subplots.AxesSubplot object at 0x7f2cbc321810>,\n",
              "        <matplotlib.axes._subplots.AxesSubplot object at 0x7f2cbc2d8990>]],\n",
              "      dtype=object)"
            ]
          },
          "metadata": {},
          "execution_count": 248
        },
        {
          "output_type": "display_data",
          "data": {
            "text/plain": [
              "<Figure size 1440x792 with 12 Axes>"
            ],
            "image/png": "[encoded data removed]"
          },
          "metadata": {
            "needs_background": "light"
          }
        }
      ]
    },
    {
      "cell_type": "markdown",
      "source": [
        "## part (e)"
      ],
      "metadata": {
        "id": "VjzaRYy8i-iM"
      }
    },
    {
      "cell_type": "markdown",
      "source": [
        "Create side-by-side boxplots of delay times for flights with delays 60 minutes or greater for the top 5 airlines in terms of number\n",
        "of flights"
      ],
      "metadata": {
        "id": "Ue16vGGXi_jb"
      }
    },
    {
      "cell_type": "code",
      "source": [
        "import operator\n",
        "\n",
        "# create a dictionary with total flights for each airline\n",
        "top_airlines = {}\n",
        "for i in set(long_delays['carrier']):\n",
        "  top_airlines[i] = list(long_delays['carrier']).count(i)\n",
        "\n",
        "# sort the dictionary and extract top five airlines\n",
        "sorted_x = sorted(top_airlines.items(), key=operator.itemgetter(1), reverse = True)\n",
        "top_carriers = list(dict(sorted_x[0:5]).keys())\n",
        "\n",
        "# take subset of only top five airlines\n",
        "airlines = flights.loc[flights['carrier'].isin(top_carriers)]\n",
        "airlines = airlines[['carrier', 'arr_delay']]\n",
        "\n",
        "# create boxplot grouped by airline\n",
        "airlines.boxplot(by='carrier', )\n",
        "plt.title(\"\")\n",
        "plt.xlabel(\"Carrier\")\n",
        "plt.ylabel(\"Delay Time (minutes)\")"
      ],
      "metadata": {
        "colab": {
          "base_uri": "https://localhost:8080/",
          "height": 375
        },
        "id": "2TYwCCp6jCWL",
        "outputId": "b41e5d80-db64-4081-d1a4-60f8f7ebe577"
      },
      "execution_count": null,
      "outputs": [
        {
          "output_type": "stream",
          "name": "stderr",
          "text": [
            "/usr/local/lib/python3.7/dist-packages/matplotlib/cbook/__init__.py:1376: VisibleDeprecationWarning: Creating an ndarray from ragged nested sequences (which is a list-or-tuple of lists-or-tuples-or ndarrays with different lengths or shapes) is deprecated. If you meant to do this, you must specify 'dtype=object' when creating the ndarray.\n",
            "  X = np.atleast_1d(X.T if isinstance(X, np.ndarray) else np.asarray(X))\n"
          ]
        },
        {
          "output_type": "execute_result",
          "data": {
            "text/plain": [
              "Text(0, 0.5, 'Delay Time (minutes)')"
            ]
          },
          "metadata": {},
          "execution_count": 235
        },
        {
          "output_type": "display_data",
          "data": {
            "text/plain": [
              "<Figure size 432x288 with 1 Axes>"
            ],
            "image/png": "[encoded data removed]"
          },
          "metadata": {
            "needs_background": "light"
          }
        }
      ]
    }
  ]
}